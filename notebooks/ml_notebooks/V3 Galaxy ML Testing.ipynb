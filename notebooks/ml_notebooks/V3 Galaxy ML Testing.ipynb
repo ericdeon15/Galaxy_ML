{
  "cells": [
    {
      "cell_type": "markdown",
      "metadata": {
        "id": "OVR9Hvjyix7R"
      },
      "source": [
        "# V3 Galaxy ML testing\n",
        "This notebook uses an enhanced dataset with features from the full 2MRS catalog and the t5 table of the Tully 2015 paper.\n",
        "\n",
        "\n"
      ]
    },
    {
      "cell_type": "code",
      "execution_count": null,
      "metadata": {
        "colab": {
          "base_uri": "https://localhost:8080/"
        },
        "id": "ZCyozaucgMF6",
        "outputId": "2f1641cd-bb42-4fca-db32-e45a0806a434"
      },
      "outputs": [],
      "source": [
        "#Imports\n",
        "import scipy\n",
        "import pandas as pd\n",
        "import numpy as np\n",
        "import sklearn\n",
        "from pandas import read_csv\n",
        "from matplotlib import pyplot as plt\n",
        "import seaborn as sns\n",
        "import os\n",
        "from google.colab import drive\n",
        "\n",
        "#Model-assisting import\n",
        "from sklearn.model_selection import train_test_split\n",
        "from sklearn.model_selection import cross_val_score\n",
        "from sklearn.model_selection import KFold\n",
        "from sklearn.metrics import r2_score\n",
        "from sklearn.metrics import root_mean_squared_error\n",
        "from sklearn.metrics import mean_absolute_percentage_error\n",
        "\n",
        "#Model imports\n",
        "\n",
        "from sklearn.svm import SVR\n",
        "from sklearn.linear_model import LinearRegression\n",
        "from sklearn.ensemble import RandomForestRegressor\n",
        "from sklearn.ensemble import GradientBoostingRegressor\n",
        "from sklearn.neighbors import KNeighborsRegressor\n",
        "\n",
        "drive.mount('/content/drive/')\n",
        "os.chdir('/content/drive/My Drive/Physics Research/Fall 2024 Research')"
      ]
    },
    {
      "cell_type": "code",
      "execution_count": null,
      "metadata": {
        "colab": {
          "base_uri": "https://localhost:8080/",
          "height": 224
        },
        "id": "AvIKOUrgg4BH",
        "outputId": "80deb418-96c4-4097-b5d5-fd57bc204a4a"
      },
      "outputs": [],
      "source": [
        "overlap_t5_file = read_csv('overlap_t5_file.csv')\n",
        "overlap_t5_file.head()"
      ]
    },
    {
      "cell_type": "code",
      "execution_count": null,
      "metadata": {
        "colab": {
          "base_uri": "https://localhost:8080/"
        },
        "id": "ymYaREuJh7cE",
        "outputId": "1b8497d6-0380-4c17-ff49-3d2888a57000"
      },
      "outputs": [
        {
          "name": "stdout",
          "output_type": "stream",
          "text": [
            "SDSS Outliers Shape: (467, 18)\n",
            "2MRS Outliers Shape: (445, 18)\n",
            "Pruned Dataset Shape: (2401, 18)\n"
          ]
        }
      ],
      "source": [
        "# Handling outliers using IQR Method\n",
        "\n",
        "# Calculate IQR for SDSS\n",
        "Q1_sdss = overlap_t5_file['SDSS Local Density'].quantile(0.25)\n",
        "Q3_sdss = overlap_t5_file['SDSS Local Density'].quantile(0.75)\n",
        "IQR_sdss = Q3_sdss - Q1_sdss\n",
        "\n",
        "# Determine outlier thresholds\n",
        "# A smaller multiplier than 1.5 would identify more outliers and vice versa\n",
        "lower_bound_sdss = Q1_sdss - 1.5 * IQR_sdss\n",
        "upper_bound_sdss = Q3_sdss + 1.5 * IQR_sdss\n",
        "\n",
        "# Calculate IQR for 2MRS\n",
        "Q1_2mrs = overlap_t5_file['2MRS Local Density'].quantile(0.25)\n",
        "Q3_2mrs = overlap_t5_file['2MRS Local Density'].quantile(0.75)\n",
        "IQR_2mrs = Q3_2mrs - Q1_2mrs\n",
        "\n",
        "# Determine outlier thresholds\n",
        "# A smaller multiplier than 1.5 would identify more outliers and vice versa\n",
        "lower_bound_2mrs = Q1_2mrs - 1.5 * IQR_2mrs\n",
        "upper_bound_2mrs = Q3_2mrs + 1.5 * IQR_2mrs\n",
        "\n",
        "# Identify SDSS outliers\n",
        "outliers_iqr_sdss = overlap_t5_file[(overlap_t5_file['SDSS Local Density'] < lower_bound_sdss) |\n",
        "                           (overlap_t5_file['SDSS Local Density'] > upper_bound_sdss)]\n",
        "print(f'SDSS Outliers Shape: {outliers_iqr_sdss.shape}')\n",
        "\n",
        "# Identify 2MRS outliers\n",
        "outliers_iqr_2mrs = overlap_t5_file[(overlap_t5_file['2MRS Local Density'] < lower_bound_2mrs) |\n",
        "                           (overlap_t5_file['2MRS Local Density'] > upper_bound_2mrs)]\n",
        "print(f'2MRS Outliers Shape: {outliers_iqr_2mrs.shape}')\n",
        "\n",
        "# Creating the pruned data based on both local desnity features\n",
        "pruned_overlap  = overlap_t5_file[(overlap_t5_file['SDSS Local Density'] >= lower_bound_sdss) &\n",
        "                                (overlap_t5_file['SDSS Local Density'] <= upper_bound_sdss) &\n",
        "                                (overlap_t5_file['2MRS Local Density'] >= lower_bound_2mrs) &\n",
        "                                (overlap_t5_file['2MRS Local Density'] <= upper_bound_2mrs)]\n",
        "\n",
        "print(f'Pruned Dataset Shape: {pruned_overlap.shape}')"
      ]
    },
    {
      "cell_type": "code",
      "execution_count": null,
      "metadata": {
        "colab": {
          "base_uri": "https://localhost:8080/"
        },
        "id": "w2l4RNqVkE6l",
        "outputId": "ef71a7a1-2eff-4edc-b555-43b7e186a532"
      },
      "outputs": [
        {
          "name": "stdout",
          "output_type": "stream",
          "text": [
            "[0.06105948 0.00582575 0.01192735 0.13774581 0.01762082 0.0594505\n",
            " 0.03896218 0.03957731 0.00361875 0.06969818]\n"
          ]
        }
      ],
      "source": [
        "vals = pruned_overlap.values\n",
        "mrs_dens_col = vals[:, 3]\n",
        "print(mrs_dens_col[0:10])"
      ]
    },
    {
      "cell_type": "code",
      "execution_count": null,
      "metadata": {
        "colab": {
          "base_uri": "https://localhost:8080/"
        },
        "id": "gfMg-Eboij68",
        "outputId": "f98378d3-b0c0-454c-dc38-7e51cdeeb24d"
      },
      "outputs": [
        {
          "name": "stderr",
          "output_type": "stream",
          "text": [
            "<ipython-input-16-5707aac6ef33>:4: SettingWithCopyWarning: \n",
            "A value is trying to be set on a copy of a slice from a DataFrame.\n",
            "Try using .loc[row_indexer,col_indexer] = value instead\n",
            "\n",
            "See the caveats in the documentation: https://pandas.pydata.org/pandas-docs/stable/user_guide/indexing.html#returning-a-view-versus-a-copy\n",
            "  pruned_overlap['SDSS Local Density'] = sdss_dens_col\n"
          ]
        }
      ],
      "source": [
        "# Creating the splits\n",
        "\n",
        "sdss_dens_col = pruned_overlap.pop('SDSS Local Density')\n",
        "pruned_overlap['SDSS Local Density'] = sdss_dens_col\n",
        "\n",
        "vals = pruned_overlap.values\n",
        "\n",
        "log_data = np.copy(vals)\n",
        "log_data[:, 3] = np.log(vals[:, 3])  # Transforms 2MRS Local Density values\n",
        "log_data[:, -1] = np.log(vals[:, -1])  # Transform SDSS Local Density values\n",
        "\n",
        "X = log_data[:, 0:-1] # All columns except SDSS Local Density\n",
        "y = log_data[:, -1] # SDSS Local Density (logged)\n",
        "\n",
        "X_train, X_test, y_train, y_test = train_test_split(X, y, test_size=0.20, random_state=15)"
      ]
    },
    {
      "cell_type": "code",
      "execution_count": null,
      "metadata": {
        "id": "XU6D4FHZj3Jx"
      },
      "outputs": [],
      "source": [
        "# Normalizing the data\n",
        "\n",
        "from sklearn.preprocessing import StandardScaler\n",
        "from sklearn.preprocessing import RobustScaler\n",
        "\n",
        "scaler = StandardScaler()\n",
        "\n",
        "# Fit and transform the data\n",
        "scaler.fit(X_train)\n",
        "X_train_sscaled = scaler.transform(X_train)\n",
        "X_test_sscaled = scaler.transform(X_test)"
      ]
    },
    {
      "cell_type": "code",
      "execution_count": null,
      "metadata": {
        "colab": {
          "base_uri": "https://localhost:8080/"
        },
        "id": "O329Fu70kh75",
        "outputId": "22cb2414-3d7a-4793-c937-74e138ce105f"
      },
      "outputs": [
        {
          "name": "stdout",
          "output_type": "stream",
          "text": [
            "Model RMSEs:\n",
            "\n",
            "LR: 1.13\n",
            "RFR: 1.01\n",
            "KNN: 1.2\n",
            "GBR: 1.04\n",
            "SVM: 1.09\n",
            "\n",
            "Model R^2s:\n",
            "\n",
            "LR: 0.38\n",
            "RFR: 0.5\n",
            "KNN: 0.3\n",
            "GBR: 0.47\n",
            "SVM: 0.42\n"
          ]
        }
      ],
      "source": [
        "# K-Fold Cross-Validation To Compare Models\n",
        "\n",
        "# Initialize the models\n",
        "models = []\n",
        "models.append(('LR', LinearRegression()))\n",
        "models.append(('RFR', RandomForestRegressor()))\n",
        "models.append(('KNN', KNeighborsRegressor(n_neighbors=5))) #default k is 5\n",
        "models.append(('GBR', GradientBoostingRegressor()))\n",
        "models.append(('SVM', SVR(gamma='auto')))\n",
        "\n",
        "print('Model RMSEs:\\n')\n",
        "for name, model in models:\n",
        "  kfold = KFold(n_splits=5, random_state=15, shuffle=True)\n",
        "  cvResult = cross_val_score(model, X_train_sscaled, y_train, cv=kfold, scoring='neg_root_mean_squared_error')\n",
        "  print(f'{name}: {round(-cvResult.mean(), 2)}')\n",
        "\n",
        "print('\\nModel R^2s:\\n')\n",
        "for name, model in models:\n",
        "  kfold = KFold(n_splits=5, random_state=15, shuffle=True)\n",
        "  cvResult = cross_val_score(model, X_train_sscaled, y_train, cv=kfold, scoring='r2')\n",
        "  print(f'{name}: {round(cvResult.mean(), 2)}')"
      ]
    },
    {
      "cell_type": "code",
      "execution_count": null,
      "metadata": {
        "colab": {
          "base_uri": "https://localhost:8080/"
        },
        "id": "Qd9L73Ltk4NZ",
        "outputId": "804cac97-c10e-4cc4-ccc9-95a4cbe07b41"
      },
      "outputs": [
        {
          "name": "stdout",
          "output_type": "stream",
          "text": [
            "Root Mean Squared Error: 1.0304250785652287\n",
            "\n",
            "R^2 Score: 0.5198440115481278\n",
            "\n",
            "MAPE Score: 1.92%\n",
            "\n"
          ]
        }
      ],
      "source": [
        "# Predicting with RFR\n",
        "model_rfr = RandomForestRegressor()\n",
        "model_rfr.fit(X_train_sscaled, y_train)\n",
        "predictions = model_rfr.predict(X_test_sscaled)\n",
        "\n",
        "#print(max(predictions))\n",
        "\n",
        "#Evaluate predictions\n",
        "print(f'Root Mean Squared Error: {root_mean_squared_error(y_test, predictions)}\\n')\n",
        "print(f'R^2 Score: {r2_score(y_test, predictions)}\\n')\n",
        "print(f'MAPE Score: {round(mean_absolute_percentage_error(y_test, predictions), 2)}%\\n')"
      ]
    },
    {
      "cell_type": "code",
      "execution_count": null,
      "metadata": {
        "colab": {
          "base_uri": "https://localhost:8080/",
          "height": 618
        },
        "id": "2gihTCuNk8iH",
        "outputId": "87356a0a-e704-4024-a770-9158e65afd63"
      },
      "outputs": [
        {
          "name": "stdout",
          "output_type": "stream",
          "text": [
            "Importances: [0.04939812 0.04931769 0.07980393 0.09122151 0.0195527  0.0205499\n",
            " 0.02012279 0.02482166 0.02173531 0.02432481 0.03062133 0.03173721\n",
            " 0.03079764 0.1508838  0.03033496 0.03732302 0.28745362]\n"
          ]
        },
        {
          "data": {
            "image/png": "[encoded data removed]",
            "text/plain": [
              "<Figure size 1000x600 with 1 Axes>"
            ]
          },
          "metadata": {},
          "output_type": "display_data"
        }
      ],
      "source": [
        "import seaborn as sns\n",
        "\n",
        "# Extract feature importances\n",
        "importances = model_rfr.feature_importances_\n",
        "\n",
        "print(f'Importances: {importances}')\n",
        "\n",
        "col_names = pruned_overlap.columns.tolist()\n",
        "\n",
        "# Create a DataFrame for feature importance\n",
        "feature_importance_df = pd.DataFrame({\n",
        "    'Feature': col_names[:-1],\n",
        "    'Importance': importances\n",
        "})\n",
        "\n",
        "# Sort the DataFrame by importance\n",
        "feature_importance_df = feature_importance_df.sort_values(by='Importance', ascending=False)\n",
        "\n",
        "# Plotting\n",
        "plt.figure(figsize=(10, 6))\n",
        "sns.barplot(x='Importance', y='Feature', data=feature_importance_df)\n",
        "plt.title('Feature Importance')\n",
        "plt.xlabel('Importance Score')\n",
        "plt.ylabel('Feature')\n",
        "plt.show()"
      ]
    }
  ],
  "metadata": {
    "colab": {
      "authorship_tag": "ABX9TyOhY8EY4dFc6CCvbxZNOLSG",
      "provenance": []
    },
    "kernelspec": {
      "display_name": "env",
      "language": "python",
      "name": "python3"
    },
    "language_info": {
      "codemirror_mode": {
        "name": "ipython",
        "version": 3
      },
      "file_extension": ".py",
      "mimetype": "text/x-python",
      "name": "python",
      "nbconvert_exporter": "python",
      "pygments_lexer": "ipython3",
      "version": "3.10.7"
    },
    "vscode": {
      "interpreter": {
        "hash": "b6898ef2af0a9f3630f13481fa9493d1110a5ff6dff1ccec769f1922fe3432d0"
      }
    }
  },
  "nbformat": 4,
  "nbformat_minor": 0
}
